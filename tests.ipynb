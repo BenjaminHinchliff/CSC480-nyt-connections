{
 "cells": [
  {
   "cell_type": "code",
   "execution_count": 1,
   "id": "c9720b74-ca77-4652-a2b1-ed82043efded",
   "metadata": {},
   "outputs": [],
   "source": [
    "import pandas as pd"
   ]
  },
  {
   "cell_type": "code",
   "execution_count": 2,
   "id": "a68ff6e9-089b-4d1f-a2c9-418d205ec708",
   "metadata": {},
   "outputs": [],
   "source": [
    "conn = pd.read_csv(\"connections.csv\")"
   ]
  },
  {
   "cell_type": "code",
   "execution_count": null,
   "id": "22561ceb-367d-4781-8095-fe9b9b1c1b18",
   "metadata": {},
   "outputs": [],
   "source": [
    "conn"
   ]
  },
  {
   "cell_type": "code",
   "execution_count": 4,
   "id": "11e60659-ddbc-4537-92f9-508d851d631b",
   "metadata": {},
   "outputs": [
    {
     "ename": "ModuleNotFoundError",
     "evalue": "No module named 'torch'",
     "output_type": "error",
     "traceback": [
      "\u001b[0;31m---------------------------------------------------------------------------\u001b[0m",
      "\u001b[0;31mModuleNotFoundError\u001b[0m                       Traceback (most recent call last)",
      "\u001b[1;32m/Users/janitsharma/aarav/Cal Poly/CSC 480/CSC480-nyt-connections/tests.ipynb Cell 4\u001b[0m line \u001b[0;36m1\n\u001b[0;32m----> <a href='vscode-notebook-cell:/Users/janitsharma/aarav/Cal%20Poly/CSC%20480/CSC480-nyt-connections/tests.ipynb#W3sZmlsZQ%3D%3D?line=0'>1</a>\u001b[0m \u001b[39mimport\u001b[39;00m \u001b[39mtorch\u001b[39;00m\n\u001b[1;32m      <a href='vscode-notebook-cell:/Users/janitsharma/aarav/Cal%20Poly/CSC%20480/CSC480-nyt-connections/tests.ipynb#W3sZmlsZQ%3D%3D?line=1'>2</a>\u001b[0m tokenizer \u001b[39m=\u001b[39m torch\u001b[39m.\u001b[39mhub\u001b[39m.\u001b[39mload(\u001b[39m'\u001b[39m\u001b[39mhuggingface/pytorch-transformers\u001b[39m\u001b[39m'\u001b[39m, \u001b[39m'\u001b[39m\u001b[39mtokenizer\u001b[39m\u001b[39m'\u001b[39m, \u001b[39m'\u001b[39m\u001b[39mbert-base-cased\u001b[39m\u001b[39m'\u001b[39m)\n\u001b[1;32m      <a href='vscode-notebook-cell:/Users/janitsharma/aarav/Cal%20Poly/CSC%20480/CSC480-nyt-connections/tests.ipynb#W3sZmlsZQ%3D%3D?line=3'>4</a>\u001b[0m text_1 \u001b[39m=\u001b[39m \u001b[39m\"\u001b[39m\u001b[39mWho was Jim Henson ?\u001b[39m\u001b[39m\"\u001b[39m\n",
      "\u001b[0;31mModuleNotFoundError\u001b[0m: No module named 'torch'"
     ]
    }
   ],
   "source": [
    "import torch\n",
    "tokenizer = torch.hub.load('huggingface/pytorch-transformers', 'tokenizer', 'bert-base-cased')\n",
    "\n",
    "text_1 = \"Who was Jim Henson ?\"\n",
    "text_2 = \"Jim Henson was a puppeteer\"\n",
    "\n",
    "# Tokenized input with special tokens around it (for BERT: [CLS] at the beginning and [SEP] at the end)\n",
    "indexed_tokens = tokenizer.encode(text_1, text_2, add_special_tokens=True)"
   ]
  }
 ],
 "metadata": {
  "kernelspec": {
   "display_name": "Python 3 (ipykernel)",
   "language": "python",
   "name": "python3"
  },
  "language_info": {
   "codemirror_mode": {
    "name": "ipython",
    "version": 3
   },
   "file_extension": ".py",
   "mimetype": "text/x-python",
   "name": "python",
   "nbconvert_exporter": "python",
   "pygments_lexer": "ipython3",
   "version": "3.10.3"
  }
 },
 "nbformat": 4,
 "nbformat_minor": 5
}

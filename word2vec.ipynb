{
 "cells": [
  {
   "cell_type": "code",
   "execution_count": 1,
   "metadata": {},
   "outputs": [
    {
     "name": "stderr",
     "output_type": "stream",
     "text": [
      "/Users/janitsharma/anaconda3/lib/python3.10/site-packages/pandas/core/arrays/masked.py:60: UserWarning: Pandas requires version '1.3.6' or newer of 'bottleneck' (version '1.3.5' currently installed).\n",
      "  from pandas.core import (\n"
     ]
    }
   ],
   "source": [
    "import random\n",
    "import numpy as np\n",
    "import pandas as pd\n",
    "from gensim.models import KeyedVectors\n",
    "from k_means_constrained import KMeansConstrained\n",
    "from sklearn.metrics import silhouette_score\n",
    "from sklearn.model_selection import train_test_split"
   ]
  },
  {
   "cell_type": "markdown",
   "metadata": {},
   "source": [
    "Use the pre-trained Google News corpus (3 billion running words) word vector model"
   ]
  },
  {
   "cell_type": "code",
   "execution_count": 2,
   "metadata": {},
   "outputs": [],
   "source": [
    "def create_word2vec_model():\n",
    "    word2vec_path = 'GoogleNews-vectors-negative300.bin'\n",
    "    w2v_model = KeyedVectors.load_word2vec_format(word2vec_path, binary=True)\n",
    "    return w2v_model"
   ]
  },
  {
   "cell_type": "markdown",
   "metadata": {},
   "source": [
    "Create a list of connections games from the connections.csv"
   ]
  },
  {
   "cell_type": "code",
   "execution_count": 3,
   "metadata": {},
   "outputs": [],
   "source": [
    "def create_connections_games():\n",
    "    df = pd.read_csv('connections.csv', names=['word0', 'word1', 'word2', 'word3', 'clue']).iloc[1:]\n",
    "    df = df[['word0', 'word1', 'word2', 'word3']]\n",
    "    words_list = df.stack().tolist()\n",
    "    words_list = [s.lower() for s in words_list]\n",
    "    games = [words_list[i:i+16] for i in range(0, len(words_list), 16)]\n",
    "    return games\n"
   ]
  },
  {
   "cell_type": "markdown",
   "metadata": {},
   "source": [
    "Create word embeddings"
   ]
  },
  {
   "cell_type": "code",
   "execution_count": 4,
   "metadata": {},
   "outputs": [],
   "source": [
    "def create_embeddings(w2v_model, games):\n",
    "    embeddings = []\n",
    "    not_modeled = set()\n",
    "    for i, word_set in enumerate(games):\n",
    "        embeddings.append([])\n",
    "        for word in word_set:\n",
    "            if word in w2v_model:\n",
    "                embeddings[i].append(w2v_model[word])\n",
    "        if len(embeddings[i]) != len(word_set):\n",
    "            not_modeled.add(i)\n",
    "\n",
    "    np_embeddings = []\n",
    "    for word_set in embeddings:\n",
    "        np_embeddings.append(np.array(word_set))\n",
    "    \n",
    "    return np_embeddings, not_modeled"
   ]
  },
  {
   "cell_type": "markdown",
   "metadata": {},
   "source": [
    "Performs K means clustering for one game"
   ]
  },
  {
   "cell_type": "code",
   "execution_count": 5,
   "metadata": {},
   "outputs": [],
   "source": [
    "def kmeans_clustering(X, game):\n",
    "    kmeans_cluster = KMeansConstrained(n_clusters=4, size_min=4, size_max=4)\n",
    "    cluster_labels = kmeans_cluster.fit_predict(X)\n",
    "    sil_score = silhouette_score(X, cluster_labels)\n",
    "    clusters = {}\n",
    "    for i, word in enumerate(game):\n",
    "        cluster_label = cluster_labels[i]\n",
    "        if cluster_label not in clusters:\n",
    "            clusters[cluster_label] = []\n",
    "        clusters[cluster_label].append(word)\n",
    "    clusters = dict(sorted(clusters.items()))\n",
    "    return clusters, sil_score "
   ]
  },
  {
   "cell_type": "markdown",
   "metadata": {},
   "source": [
    "Plays all the connections games"
   ]
  },
  {
   "cell_type": "code",
   "execution_count": 6,
   "metadata": {},
   "outputs": [],
   "source": [
    "def play_connections(connections_games, word_embeddings, not_modeled):\n",
    "    game_results = []\n",
    "    avg_silhouette_score = 0\n",
    "    for i, game in enumerate(connections_games):\n",
    "        if i not in not_modeled:\n",
    "            clusters, sil_score = kmeans_clustering(word_embeddings[i], game)\n",
    "            game_results.append(clusters)\n",
    "            avg_silhouette_score += sil_score\n",
    "        else:\n",
    "            game_results.append([])\n",
    "    avg_silhouette_score = avg_silhouette_score/(len(connections_games)-len(not_modeled))\n",
    "    return game_results, avg_silhouette_score"
   ]
  },
  {
   "cell_type": "markdown",
   "metadata": {},
   "source": [
    "Evaluate results of K means"
   ]
  },
  {
   "cell_type": "code",
   "execution_count": 7,
   "metadata": {},
   "outputs": [],
   "source": [
    "def evaluation(connections_games, results, not_modeled):\n",
    "    all_correct = 0\n",
    "    two_correct = 0\n",
    "    one_correct = 0\n",
    "\n",
    "    for i, game in enumerate(connections_games):\n",
    "        if i in not_modeled:\n",
    "            continue\n",
    "\n",
    "        result = results[i]\n",
    "        \n",
    "        true_list = []\n",
    "        for i in range(len(game)):\n",
    "            if i % 4 == 0:\n",
    "                true_list.append(set())\n",
    "            true_list[i//4].add(game[i])\n",
    "        \n",
    "        pred_list = []\n",
    "        values = result.values()\n",
    "        for value in values:\n",
    "            pred_list.append(set(value))\n",
    "\n",
    "        match_set_count = 0\n",
    "        for true_set in true_list:\n",
    "            if true_set in pred_list:\n",
    "                match_set_count += 1\n",
    "        \n",
    "        if match_set_count >= 1:\n",
    "            one_correct += 1\n",
    "            if match_set_count >= 2:\n",
    "                two_correct += 1\n",
    "                if match_set_count == 4:\n",
    "                    all_correct += 1\n",
    "        \n",
    "    total_games = len(connections_games) - len(not_modeled)\n",
    "    print(f\"All Correct Group Accuracy: {all_correct / total_games}\")\n",
    "    print(f\"Two Correct Group Accuracy: {two_correct / total_games}\")  \n",
    "    print(f\"One Correct Group Accuracy : {one_correct / total_games}\")  "
   ]
  },
  {
   "cell_type": "code",
   "execution_count": 8,
   "metadata": {},
   "outputs": [],
   "source": [
    "w2v_model = create_word2vec_model()\n"
   ]
  },
  {
   "cell_type": "code",
   "execution_count": 9,
   "metadata": {},
   "outputs": [],
   "source": [
    "connections_games = create_connections_games()"
   ]
  },
  {
   "cell_type": "code",
   "execution_count": 10,
   "metadata": {},
   "outputs": [],
   "source": [
    "word_embeddings, not_modeled = create_embeddings(w2v_model, connections_games)"
   ]
  },
  {
   "cell_type": "code",
   "execution_count": 11,
   "metadata": {},
   "outputs": [],
   "source": [
    "results, avg_silhouette_score = play_connections(connections_games, word_embeddings, not_modeled)"
   ]
  },
  {
   "cell_type": "code",
   "execution_count": 12,
   "metadata": {},
   "outputs": [
    {
     "name": "stdout",
     "output_type": "stream",
     "text": [
      "All Correct Group Accuracy: 0.0273224043715847\n",
      "Two Correct Group Accuracy: 0.12568306010928962\n",
      "One Correct Group Accuracy : 0.3879781420765027\n",
      "Average Silhouette Score: 0.040800863156817815\n"
     ]
    }
   ],
   "source": [
    "evaluation(connections_games, results, not_modeled)\n",
    "print(f\"Average Silhouette Score: {avg_silhouette_score}\")"
   ]
  }
 ],
 "metadata": {
  "kernelspec": {
   "display_name": "base",
   "language": "python",
   "name": "python3"
  },
  "language_info": {
   "codemirror_mode": {
    "name": "ipython",
    "version": 3
   },
   "file_extension": ".py",
   "mimetype": "text/x-python",
   "name": "python",
   "nbconvert_exporter": "python",
   "pygments_lexer": "ipython3",
   "version": "3.10.11"
  }
 },
 "nbformat": 4,
 "nbformat_minor": 2
}

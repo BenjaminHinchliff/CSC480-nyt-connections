{
 "cells": [
  {
   "cell_type": "code",
   "execution_count": 4,
   "id": "6dd47870-3882-4ea6-b2a2-bb51c6c1feb1",
   "metadata": {},
   "outputs": [],
   "source": [
    "import numpy as np\n",
    "import pandas as pd\n",
    "from k_means_constrained import KMeansConstrained\n",
    "from collections import defaultdict\n",
    "import matplotlib.pyplot as plt\n",
    "from sklearn.metrics import silhouette_score"
   ]
  },
  {
   "cell_type": "markdown",
   "id": "2c3011bb",
   "metadata": {},
   "source": [
    "Creates the word embeddings from the pre-trained GloVE embedding file"
   ]
  },
  {
   "cell_type": "code",
   "execution_count": 5,
   "id": "51642e14-3298-476a-88cd-05719a7b7aad",
   "metadata": {},
   "outputs": [
    {
     "ename": "FileNotFoundError",
     "evalue": "[Errno 2] No such file or directory: 'glove.840B.300d.txt'",
     "output_type": "error",
     "traceback": [
      "\u001b[0;31m---------------------------------------------------------------------------\u001b[0m",
      "\u001b[0;31mFileNotFoundError\u001b[0m                         Traceback (most recent call last)",
      "Cell \u001b[0;32mIn[5], line 5\u001b[0m\n\u001b[1;32m      2\u001b[0m DIMS \u001b[38;5;241m=\u001b[39m \u001b[38;5;241m300\u001b[39m\n\u001b[1;32m      4\u001b[0m embeddings_index \u001b[38;5;241m=\u001b[39m {}\n\u001b[0;32m----> 5\u001b[0m \u001b[38;5;28;01mwith\u001b[39;00m \u001b[38;5;28;43mopen\u001b[39;49m\u001b[43m(\u001b[49m\u001b[43mGLOVE_FILE\u001b[49m\u001b[43m)\u001b[49m \u001b[38;5;28;01mas\u001b[39;00m f:\n\u001b[1;32m      6\u001b[0m     \u001b[38;5;28;01mfor\u001b[39;00m line \u001b[38;5;129;01min\u001b[39;00m f:\n\u001b[1;32m      7\u001b[0m         splitted \u001b[38;5;241m=\u001b[39m line\u001b[38;5;241m.\u001b[39msplit()\n",
      "File \u001b[0;32m~/anaconda3/lib/python3.10/site-packages/IPython/core/interactiveshell.py:284\u001b[0m, in \u001b[0;36m_modified_open\u001b[0;34m(file, *args, **kwargs)\u001b[0m\n\u001b[1;32m    277\u001b[0m \u001b[38;5;28;01mif\u001b[39;00m file \u001b[38;5;129;01min\u001b[39;00m {\u001b[38;5;241m0\u001b[39m, \u001b[38;5;241m1\u001b[39m, \u001b[38;5;241m2\u001b[39m}:\n\u001b[1;32m    278\u001b[0m     \u001b[38;5;28;01mraise\u001b[39;00m \u001b[38;5;167;01mValueError\u001b[39;00m(\n\u001b[1;32m    279\u001b[0m         \u001b[38;5;124mf\u001b[39m\u001b[38;5;124m\"\u001b[39m\u001b[38;5;124mIPython won\u001b[39m\u001b[38;5;124m'\u001b[39m\u001b[38;5;124mt let you open fd=\u001b[39m\u001b[38;5;132;01m{\u001b[39;00mfile\u001b[38;5;132;01m}\u001b[39;00m\u001b[38;5;124m by default \u001b[39m\u001b[38;5;124m\"\u001b[39m\n\u001b[1;32m    280\u001b[0m         \u001b[38;5;124m\"\u001b[39m\u001b[38;5;124mas it is likely to crash IPython. If you know what you are doing, \u001b[39m\u001b[38;5;124m\"\u001b[39m\n\u001b[1;32m    281\u001b[0m         \u001b[38;5;124m\"\u001b[39m\u001b[38;5;124myou can use builtins\u001b[39m\u001b[38;5;124m'\u001b[39m\u001b[38;5;124m open.\u001b[39m\u001b[38;5;124m\"\u001b[39m\n\u001b[1;32m    282\u001b[0m     )\n\u001b[0;32m--> 284\u001b[0m \u001b[38;5;28;01mreturn\u001b[39;00m \u001b[43mio_open\u001b[49m\u001b[43m(\u001b[49m\u001b[43mfile\u001b[49m\u001b[43m,\u001b[49m\u001b[43m \u001b[49m\u001b[38;5;241;43m*\u001b[39;49m\u001b[43margs\u001b[49m\u001b[43m,\u001b[49m\u001b[43m \u001b[49m\u001b[38;5;241;43m*\u001b[39;49m\u001b[38;5;241;43m*\u001b[39;49m\u001b[43mkwargs\u001b[49m\u001b[43m)\u001b[49m\n",
      "\u001b[0;31mFileNotFoundError\u001b[0m: [Errno 2] No such file or directory: 'glove.840B.300d.txt'"
     ]
    }
   ],
   "source": [
    "GLOVE_FILE = \"glove.840B.300d.txt\"\n",
    "DIMS = 300\n",
    "\n",
    "embeddings_index = {}\n",
    "with open(GLOVE_FILE) as f:\n",
    "    for line in f:\n",
    "        splitted = line.split()\n",
    "        word, coefs = \" \".join(splitted[:len(splitted) - DIMS]), splitted[-DIMS:]\n",
    "        coefs = np.array(coefs, dtype=float)\n",
    "        embeddings_index[word] = coefs"
   ]
  },
  {
   "cell_type": "code",
   "execution_count": null,
   "id": "b0254008-fcbe-477a-aed7-9b9f601b8f2f",
   "metadata": {},
   "outputs": [
    {
     "data": {
      "text/html": [
       "<div>\n",
       "<style scoped>\n",
       "    .dataframe tbody tr th:only-of-type {\n",
       "        vertical-align: middle;\n",
       "    }\n",
       "\n",
       "    .dataframe tbody tr th {\n",
       "        vertical-align: top;\n",
       "    }\n",
       "\n",
       "    .dataframe thead th {\n",
       "        text-align: right;\n",
       "    }\n",
       "</style>\n",
       "<table border=\"1\" class=\"dataframe\">\n",
       "  <thead>\n",
       "    <tr style=\"text-align: right;\">\n",
       "      <th></th>\n",
       "      <th>0</th>\n",
       "      <th>1</th>\n",
       "      <th>2</th>\n",
       "      <th>3</th>\n",
       "      <th>clue</th>\n",
       "    </tr>\n",
       "  </thead>\n",
       "  <tbody>\n",
       "    <tr>\n",
       "      <th>664</th>\n",
       "      <td>CO</td>\n",
       "      <td>MA</td>\n",
       "      <td>ME</td>\n",
       "      <td>PA</td>\n",
       "      <td>STATE ABBREVIATIONS</td>\n",
       "    </tr>\n",
       "    <tr>\n",
       "      <th>665</th>\n",
       "      <td>DO</td>\n",
       "      <td>FA</td>\n",
       "      <td>LA</td>\n",
       "      <td>TI</td>\n",
       "      <td>MUSICAL NOTES</td>\n",
       "    </tr>\n",
       "    <tr>\n",
       "      <th>666</th>\n",
       "      <td>MU</td>\n",
       "      <td>NU</td>\n",
       "      <td>PI</td>\n",
       "      <td>XI</td>\n",
       "      <td>GREEK LETTERS</td>\n",
       "    </tr>\n",
       "    <tr>\n",
       "      <th>667</th>\n",
       "      <td>FE</td>\n",
       "      <td>HE</td>\n",
       "      <td>NA</td>\n",
       "      <td>NI</td>\n",
       "      <td>PERIODIC TABLE SYMBOLS</td>\n",
       "    </tr>\n",
       "  </tbody>\n",
       "</table>\n",
       "</div>"
      ],
      "text/plain": [
       "      0   1   2   3                    clue\n",
       "664  CO  MA  ME  PA     STATE ABBREVIATIONS\n",
       "665  DO  FA  LA  TI           MUSICAL NOTES\n",
       "666  MU  NU  PI  XI           GREEK LETTERS\n",
       "667  FE  HE  NA  NI  PERIODIC TABLE SYMBOLS"
      ]
     },
     "execution_count": 3,
     "metadata": {},
     "output_type": "execute_result"
    }
   ],
   "source": [
    "CONNECTIONS_DATA = \"connections.csv\"\n",
    "conn = pd.read_csv(CONNECTIONS_DATA, keep_default_na=False)\n",
    "conn.iloc[664:668, :]"
   ]
  },
  {
   "cell_type": "code",
   "execution_count": null,
   "id": "c7c9baec-3b48-43fe-88cd-be6980a6ca59",
   "metadata": {},
   "outputs": [
    {
     "data": {
      "text/plain": [
       "{'BEACH BOY',\n",
       " 'BLACK WIDOW',\n",
       " 'CANDY CANE',\n",
       " 'CAT EYE',\n",
       " 'CLOUD NINE',\n",
       " 'FAST ONE',\n",
       " 'FIRE TRUCK',\n",
       " 'FRESH AIR',\n",
       " 'GET OUT',\n",
       " 'GOLF COURSE',\n",
       " 'HIGH FIVE',\n",
       " 'I RAN',\n",
       " 'ICE CUBE',\n",
       " 'LOST BOYS',\n",
       " 'MARY JANE',\n",
       " 'MASHED POTATO',\n",
       " 'MILKY WAY',\n",
       " 'MOLE RAT',\n",
       " 'NEAR DARK',\n",
       " 'NEPO',\n",
       " 'NEW YORK',\n",
       " 'OLD SPICE',\n",
       " 'ON BOARD',\n",
       " 'PEPPERMINT PATTY',\n",
       " 'RACE CAR',\n",
       " 'REPLY ALL',\n",
       " \"ROCK 'N ROLL\",\n",
       " 'ROLLING STONE',\n",
       " 'SCHOOL BUS',\n",
       " 'SLEEPING BAG',\n",
       " 'STOP SIGN',\n",
       " 'TOP TEN',\n",
       " 'UP FIRST'}"
      ]
     },
     "execution_count": 4,
     "metadata": {},
     "output_type": "execute_result"
    }
   ],
   "source": [
    "unk_words = set(word for word in conn.iloc[:, 0:4].to_numpy().flatten() if str(word).lower() not in embeddings_index)\n",
    "unk_words"
   ]
  },
  {
   "cell_type": "code",
   "execution_count": null,
   "id": "d8ceab58-8a99-4754-8c7d-a8416d5852f5",
   "metadata": {},
   "outputs": [
    {
     "data": {
      "text/html": [
       "<div>\n",
       "<style scoped>\n",
       "    .dataframe tbody tr th:only-of-type {\n",
       "        vertical-align: middle;\n",
       "    }\n",
       "\n",
       "    .dataframe tbody tr th {\n",
       "        vertical-align: top;\n",
       "    }\n",
       "\n",
       "    .dataframe thead th {\n",
       "        text-align: right;\n",
       "    }\n",
       "</style>\n",
       "<table border=\"1\" class=\"dataframe\">\n",
       "  <thead>\n",
       "    <tr style=\"text-align: right;\">\n",
       "      <th></th>\n",
       "      <th>0</th>\n",
       "      <th>1</th>\n",
       "      <th>2</th>\n",
       "      <th>3</th>\n",
       "      <th>clue</th>\n",
       "    </tr>\n",
       "  </thead>\n",
       "  <tbody>\n",
       "    <tr>\n",
       "      <th>0</th>\n",
       "      <td>BIG</td>\n",
       "      <td>HOT</td>\n",
       "      <td>IN</td>\n",
       "      <td>POPULAR</td>\n",
       "      <td>OF-THE-MOMENT</td>\n",
       "    </tr>\n",
       "    <tr>\n",
       "      <th>1</th>\n",
       "      <td>CHARACTER</td>\n",
       "      <td>GLYPH</td>\n",
       "      <td>ICON</td>\n",
       "      <td>SYMBOL</td>\n",
       "      <td>PICTOGRAPH</td>\n",
       "    </tr>\n",
       "    <tr>\n",
       "      <th>2</th>\n",
       "      <td>ASSESS</td>\n",
       "      <td>CHARGE</td>\n",
       "      <td>FINE</td>\n",
       "      <td>LEVY</td>\n",
       "      <td>IMPOSE, AS A PENALTY</td>\n",
       "    </tr>\n",
       "    <tr>\n",
       "      <th>3</th>\n",
       "      <td>HANDSOME</td>\n",
       "      <td>HIPPO</td>\n",
       "      <td>LEGEND</td>\n",
       "      <td>LIPID</td>\n",
       "      <td>WORDS BEGINNING WITH BODY PARTS</td>\n",
       "    </tr>\n",
       "    <tr>\n",
       "      <th>4</th>\n",
       "      <td>CALCULATOR</td>\n",
       "      <td>CALENDAR</td>\n",
       "      <td>CAMERA</td>\n",
       "      <td>CLOCK</td>\n",
       "      <td>SMARTPHONE FEATURES BEGINNING WITH “C”</td>\n",
       "    </tr>\n",
       "    <tr>\n",
       "      <th>...</th>\n",
       "      <td>...</td>\n",
       "      <td>...</td>\n",
       "      <td>...</td>\n",
       "      <td>...</td>\n",
       "      <td>...</td>\n",
       "    </tr>\n",
       "    <tr>\n",
       "      <th>906</th>\n",
       "      <td>ESSENCE</td>\n",
       "      <td>PEOPLE</td>\n",
       "      <td>TIME</td>\n",
       "      <td>US</td>\n",
       "      <td>MAGAZINES</td>\n",
       "    </tr>\n",
       "    <tr>\n",
       "      <th>907</th>\n",
       "      <td>ARE</td>\n",
       "      <td>QUEUE</td>\n",
       "      <td>SEA</td>\n",
       "      <td>WHY</td>\n",
       "      <td>LETTER HOMOPHONES</td>\n",
       "    </tr>\n",
       "    <tr>\n",
       "      <th>908</th>\n",
       "      <td>HAIL</td>\n",
       "      <td>RAIN</td>\n",
       "      <td>SLEET</td>\n",
       "      <td>SNOW</td>\n",
       "      <td>WET WEATHER</td>\n",
       "    </tr>\n",
       "    <tr>\n",
       "      <th>909</th>\n",
       "      <td>BUCKS</td>\n",
       "      <td>HEAT</td>\n",
       "      <td>JAZZ</td>\n",
       "      <td>NETS</td>\n",
       "      <td>NBA TEAMS</td>\n",
       "    </tr>\n",
       "    <tr>\n",
       "      <th>910</th>\n",
       "      <td>OPTION</td>\n",
       "      <td>RETURN</td>\n",
       "      <td>SHIFT</td>\n",
       "      <td>TAB</td>\n",
       "      <td>KEYBOARD KEYS</td>\n",
       "    </tr>\n",
       "  </tbody>\n",
       "</table>\n",
       "<p>881 rows × 5 columns</p>\n",
       "</div>"
      ],
      "text/plain": [
       "              0         1       2        3  \\\n",
       "0           BIG       HOT      IN  POPULAR   \n",
       "1     CHARACTER     GLYPH    ICON   SYMBOL   \n",
       "2        ASSESS    CHARGE    FINE     LEVY   \n",
       "3      HANDSOME     HIPPO  LEGEND    LIPID   \n",
       "4    CALCULATOR  CALENDAR  CAMERA    CLOCK   \n",
       "..          ...       ...     ...      ...   \n",
       "906     ESSENCE    PEOPLE    TIME       US   \n",
       "907         ARE     QUEUE     SEA      WHY   \n",
       "908        HAIL      RAIN   SLEET     SNOW   \n",
       "909       BUCKS      HEAT    JAZZ     NETS   \n",
       "910      OPTION    RETURN   SHIFT      TAB   \n",
       "\n",
       "                                       clue  \n",
       "0                             OF-THE-MOMENT  \n",
       "1                                PICTOGRAPH  \n",
       "2                      IMPOSE, AS A PENALTY  \n",
       "3           WORDS BEGINNING WITH BODY PARTS  \n",
       "4    SMARTPHONE FEATURES BEGINNING WITH “C”  \n",
       "..                                      ...  \n",
       "906                               MAGAZINES  \n",
       "907                       LETTER HOMOPHONES  \n",
       "908                             WET WEATHER  \n",
       "909                               NBA TEAMS  \n",
       "910                           KEYBOARD KEYS  \n",
       "\n",
       "[881 rows x 5 columns]"
      ]
     },
     "execution_count": 5,
     "metadata": {},
     "output_type": "execute_result"
    }
   ],
   "source": [
    "valid = conn[~conn.iloc[:, 0:4].isin(unk_words).any(axis=1)]\n",
    "valid"
   ]
  },
  {
   "cell_type": "code",
   "execution_count": null,
   "id": "980c18b1-ab58-45fa-a0e2-09b36c57819f",
   "metadata": {},
   "outputs": [
    {
     "data": {
      "text/plain": [
       "(array([['BIG', 'HOT', 'IN', 'POPULAR'],\n",
       "        ['CHARACTER', 'GLYPH', 'ICON', 'SYMBOL'],\n",
       "        ['ASSESS', 'CHARGE', 'FINE', 'LEVY'],\n",
       "        ['HANDSOME', 'HIPPO', 'LEGEND', 'LIPID']], dtype=object),\n",
       " array([[-0.37899  ,  0.041352 , -0.083947 , ..., -0.21303  ,  0.041024 ,\n",
       "         -0.019819 ],\n",
       "        [ 0.17453  , -0.11062  ,  0.34864  , ..., -0.52399  , -0.20693  ,\n",
       "         -0.14813  ],\n",
       "        [ 0.089187 ,  0.25792  ,  0.26282  , ...,  0.14421  , -0.169    ,\n",
       "          0.26501  ],\n",
       "        ...,\n",
       "        [ 0.52797  , -0.11864  , -0.25654  , ...,  0.5289   ,  0.11001  ,\n",
       "         -0.32933  ],\n",
       "        [ 0.72341  , -0.042904 ,  0.19074  , ...,  0.30223  ,  0.58193  ,\n",
       "         -0.03892  ],\n",
       "        [-0.0047763, -0.076758 , -0.29663  , ..., -0.33801  ,  0.18916  ,\n",
       "         -0.28818  ]]))"
      ]
     },
     "execution_count": 6,
     "metadata": {},
     "output_type": "execute_result"
    }
   ],
   "source": [
    "sample = conn.iloc[:, :4].to_numpy()\n",
    "sets = np.array(np.array_split(sample, len(sample) // 4))\n",
    "enc = sets.reshape((-1, 16))\n",
    "enc = np.array([[embeddings_index.get(str(word).lower(), np.zeros((DIMS,))) for word in set] for set in enc])\n",
    "(sets[0], enc[0])"
   ]
  },
  {
   "cell_type": "code",
   "execution_count": null,
   "id": "4ecdff47-326f-41ed-b202-95e2313790c7",
   "metadata": {},
   "outputs": [
    {
     "data": {
      "text/plain": [
       "912"
      ]
     },
     "execution_count": 7,
     "metadata": {},
     "output_type": "execute_result"
    }
   ],
   "source": [
    "len(sample)"
   ]
  },
  {
   "cell_type": "code",
   "execution_count": null,
   "id": "4763a7f8-e043-4394-a734-b9dc52c05c80",
   "metadata": {},
   "outputs": [],
   "source": [
    "metrics = defaultdict(list)\n",
    "for true_set, en in zip(sets, enc):\n",
    "    clf = KMeansConstrained(\n",
    "        n_clusters=4,\n",
    "        size_min=4,\n",
    "        size_max=4,\n",
    "    )\n",
    "    \n",
    "    pred = clf.fit_predict(en)\n",
    "    pred_set = [true_set.reshape((16,))[np.where(pred == i)] for i in range(0, 4)]\n",
    "    true_set = set(frozenset(true) for true in true_set)\n",
    "    pred_set = set(frozenset(pred) for pred in pred_set)\n",
    "    metrics[\"correct_groups\"].append(len(true_set.intersection(pred_set)))\n",
    "    metrics[\"silhouette_score\"].append(silhouette_score(en, pred))\n",
    "    metrics[\"predicted\"].append(pred)"
   ]
  },
  {
   "cell_type": "code",
   "execution_count": null,
   "id": "134c45e1-df5e-4f43-849e-2893fa96eb22",
   "metadata": {},
   "outputs": [
    {
     "data": {
      "image/png": "[encoded data removed]",
      "text/plain": [
       "<Figure size 640x480 with 1 Axes>"
      ]
     },
     "metadata": {},
     "output_type": "display_data"
    }
   ],
   "source": [
    "def visualize_group_prediction_accuracy(num_correct_groups):\n",
    "    labels, counts = np.unique(num_correct_groups, return_counts=True)\n",
    "    frequencies = counts / counts.sum()\n",
    "    percentages = frequencies * 100\n",
    "    colors = ['tab:red', 'tab:orange', 'tab:blue', 'tab:green']\n",
    "    rects = plt.bar([str(l) for l in labels], percentages, color = colors)\n",
    "    plt.bar_label(rects, padding = 0.5, labels = [f\"{p:.2f}%\" for p in percentages])\n",
    "    plt.title(\"Group Prediction Accuracy\")\n",
    "    plt.xlabel(\"Number of Groups Correctly Predicted\")\n",
    "    plt.ylabel(\"Relative Frequency (%)\")\n",
    "    plt.show()\n",
    "\n",
    "visualize_group_prediction_accuracy(metrics[\"correct_groups\"])"
   ]
  },
  {
   "cell_type": "code",
   "execution_count": null,
   "id": "ce09c9ab-84fb-47f4-bcd2-ef8ff9728d77",
   "metadata": {},
   "outputs": [
    {
     "data": {
      "image/png": "[encoded data removed]",
      "text/plain": [
       "<Figure size 640x480 with 1 Axes>"
      ]
     },
     "metadata": {},
     "output_type": "display_data"
    }
   ],
   "source": [
    "def visualize_silhouette_score(scores):\n",
    "    plt.hist(scores)\n",
    "    plt.title(\"Silhouette Score Distribution\")\n",
    "    plt.xlabel(\"Silhouette Score\")\n",
    "    plt.ylabel(\"Count\")\n",
    "    plt.show()\n",
    "\n",
    "visualize_silhouette_score(metrics[\"silhouette_score\"])"
   ]
  },
  {
   "cell_type": "code",
   "execution_count": null,
   "id": "4d6326f3-c4ee-4d39-b967-30105d9b83a0",
   "metadata": {},
   "outputs": [
    {
     "ename": "NameError",
     "evalue": "name 'metrics' is not defined",
     "output_type": "error",
     "traceback": [
      "\u001b[0;31m---------------------------------------------------------------------------\u001b[0m",
      "\u001b[0;31mNameError\u001b[0m                                 Traceback (most recent call last)",
      "Cell \u001b[0;32mIn[3], line 19\u001b[0m\n\u001b[1;32m     16\u001b[0m     plt\u001b[38;5;241m.\u001b[39mlegend()\n\u001b[1;32m     17\u001b[0m     plt\u001b[38;5;241m.\u001b[39mshow()\n\u001b[0;32m---> 19\u001b[0m EX_SET_IDX \u001b[38;5;241m=\u001b[39m \u001b[43mmetrics\u001b[49m[\u001b[38;5;124m\"\u001b[39m\u001b[38;5;124mcorrect_groups\u001b[39m\u001b[38;5;124m\"\u001b[39m]\u001b[38;5;241m.\u001b[39mindex(\u001b[38;5;241m4\u001b[39m)\n\u001b[1;32m     20\u001b[0m ex_set, ex_enc \u001b[38;5;241m=\u001b[39m sets[EX_SET_IDX], enc[EX_SET_IDX]\n\u001b[1;32m     21\u001b[0m pred \u001b[38;5;241m=\u001b[39m metrics[\u001b[38;5;124m\"\u001b[39m\u001b[38;5;124mpredicted\u001b[39m\u001b[38;5;124m\"\u001b[39m][EX_SET_IDX]\n",
      "\u001b[0;31mNameError\u001b[0m: name 'metrics' is not defined"
     ]
    }
   ],
   "source": [
    "from sklearn.decomposition import PCA\n",
    "from sklearn.manifold import TSNE\n",
    "\n",
    "def visualize_kmeans(X, game, cluster_labels):\n",
    "    tsne = TSNE(perplexity=3)\n",
    "    X_reduced = tsne.fit_transform(X)\n",
    "\n",
    "    for cluster_label in np.unique(cluster_labels):\n",
    "        plt.scatter(X_reduced[cluster_labels == cluster_label, 0], X_reduced[cluster_labels == cluster_label, 1], \n",
    "        label=f'Cluster {cluster_label+1}', alpha=0.5)\n",
    "\n",
    "    for i, word in enumerate(game.flatten()):\n",
    "        plt.annotate(word, (X_reduced[i, 0], X_reduced[i, 1]))\n",
    "\n",
    "    plt.title('Kmeans Clustering on GLoVE - T-SNE Visualization')\n",
    "    plt.legend()\n",
    "    plt.show()\n",
    "\n",
    "EX_SET_IDX = metrics[\"correct_groups\"].index(4)\n",
    "ex_set, ex_enc = sets[EX_SET_IDX], enc[EX_SET_IDX]\n",
    "pred = metrics[\"predicted\"][EX_SET_IDX]\n",
    "visualize_kmeans(ex_enc, ex_set, pred)"
   ]
  },
  {
   "cell_type": "code",
   "execution_count": null,
   "id": "b091b3dd-647b-4839-970e-2add10adda9f",
   "metadata": {},
   "outputs": [
    {
     "data": {
      "text/plain": [
       "[{frozenset({'JEAN', 'PANT', 'SHORT', 'TIGHT'}),\n",
       "  frozenset({'PINCH', 'ROB', 'STEAL', 'SWIPE'}),\n",
       "  frozenset({'BUCK', 'BULL', 'JACK', 'TOM'}),\n",
       "  frozenset({'BILL', 'CHECK', 'INVOICE', 'TAB'})},\n",
       " {frozenset({'PLOT', 'PLOY', 'RUSE', 'TRICK'}),\n",
       "  frozenset({'HOE', 'PLOW', 'RAKE', 'SICKLE'}),\n",
       "  frozenset({'BANG', 'PLOP', 'SPLASH', 'THUD'}),\n",
       "  frozenset({'AMUSE', 'DELIGHT', 'PLEASE', 'TICKLE'})},\n",
       " {frozenset({'LIME', 'MINT', 'RUM', 'SODA'}),\n",
       "  frozenset({'COUNT', 'GROSS', 'SUM', 'TOTAL'}),\n",
       "  frozenset({'GLUE', 'GUM', 'STICK', 'TAPE'}),\n",
       "  frozenset({'HUM', 'SCAT', 'SING', 'WHISTLE'})},\n",
       " {frozenset({'CHOP', 'GRIND', 'PULSE', 'PUREE'}),\n",
       "  frozenset({'CAPITAL', 'EQUITY', 'INTEREST', 'STOCK'}),\n",
       "  frozenset({'CITY', 'COUNTY', 'TOWN', 'VILLAGE'}),\n",
       "  frozenset({'IVY', 'JUSTICE', 'LITTLE', 'PREMIER'})},\n",
       " {frozenset({'HASH', 'JUMBLE', 'MEDLEY', 'STEW'}),\n",
       "  frozenset({'BROOD', 'CLUTCH', 'HATCH', 'LITTER'}),\n",
       "  frozenset({'CHALLENGE', 'CONFRONT', 'FACE', 'OPPOSE'}),\n",
       "  frozenset({'BODY', 'BRIDGE', 'FRET', 'NECK'})}]"
      ]
     },
     "execution_count": 154,
     "metadata": {},
     "output_type": "execute_result"
    }
   ],
   "source": [
    "correct_examples[:5]"
   ]
  },
  {
   "cell_type": "code",
   "execution_count": null,
   "id": "bed1feac-eede-4852-8dee-b534afcb00cb",
   "metadata": {},
   "outputs": [
    {
     "data": {
      "text/plain": [
       "[({frozenset({'CHARGE', 'FINE', 'ICON', 'POPULAR'}),\n",
       "   frozenset({'BIG', 'GLYPH', 'HIPPO', 'IN'}),\n",
       "   frozenset({'ASSESS', 'HANDSOME', 'LEGEND', 'LEVY'})},\n",
       "  {frozenset({'BIG', 'CHARGE', 'FINE', 'ICON'}),\n",
       "   frozenset({'GLYPH', 'HIPPO', 'IN', 'LEGEND'}),\n",
       "   frozenset({'ASSESS', 'HANDSOME', 'LEVY', 'POPULAR'})},\n",
       "  3),\n",
       " ({frozenset({'CONE', 'IRIS', 'LENS', 'PUPIL'}),\n",
       "   frozenset({'CALCULATOR', 'CALENDAR', 'CAMERA', 'CLOCK'}),\n",
       "   frozenset({'EXPOSE', 'PATE', 'RESUME', 'ROSE'}),\n",
       "   frozenset({'DADA', 'GRAMMY', 'MUM', 'POPPY'})},\n",
       "  {frozenset({'CONE', 'IRIS', 'POPPY', 'ROSE'}),\n",
       "   frozenset({'CALCULATOR', 'CALENDAR', 'CLOCK', 'RESUME'}),\n",
       "   frozenset({'CAMERA', 'EXPOSE', 'LENS', 'PUPIL'}),\n",
       "   frozenset({'DADA', 'GRAMMY', 'MUM', 'PATE'})},\n",
       "  4),\n",
       " ({frozenset({'AT', 'DOLLAR', 'PERCENT', 'POUND'}),\n",
       "   frozenset({'COIN', 'CREATE', 'DEVISE', 'INVENT'}),\n",
       "   frozenset({'BAR', 'BUCK', 'TIME', 'TORCH'}),\n",
       "   frozenset({'FINE', 'PRIME', 'QUALITY', 'STERLING'})},\n",
       "  {frozenset({'AT', 'BAR', 'PRIME', 'TIME'}),\n",
       "   frozenset({'BUCK', 'DOLLAR', 'PERCENT', 'POUND'}),\n",
       "   frozenset({'CREATE', 'DEVISE', 'INVENT', 'TORCH'}),\n",
       "   frozenset({'COIN', 'FINE', 'QUALITY', 'STERLING'})},\n",
       "  4),\n",
       " ({frozenset({'BATON', 'SCEPTER', 'STAFF', 'WAND'}),\n",
       "   frozenset({'APPROVED', 'PAID', 'URGENT', 'VOID'}),\n",
       "   frozenset({'CAVITY', 'CROWN', 'FILLING', 'PLAQUE'}),\n",
       "   frozenset({'GAP', 'LEAP', 'LIGHT', 'SCHOOL'})},\n",
       "  {frozenset({'GAP', 'LEAP', 'URGENT', 'VOID'}),\n",
       "   frozenset({'BATON', 'CROWN', 'SCEPTER', 'WAND'}),\n",
       "   frozenset({'APPROVED', 'PAID', 'SCHOOL', 'STAFF'}),\n",
       "   frozenset({'CAVITY', 'FILLING', 'LIGHT', 'PLAQUE'})},\n",
       "  4)]"
      ]
     },
     "execution_count": 156,
     "metadata": {},
     "output_type": "execute_result"
    }
   ],
   "source": [
    "incorrect_examples[:4]"
   ]
  },
  {
   "cell_type": "code",
   "execution_count": null,
   "id": "42e6ea07-b1eb-403c-b17d-bff6d2f5ce16",
   "metadata": {},
   "outputs": [
    {
     "name": "stdout",
     "output_type": "stream",
     "text": [
      "accuracy: 0\n",
      "avg sets correct: 0.008771929824561403\n"
     ]
    }
   ],
   "source": [
    "# baseline\n",
    "correct = 0\n",
    "correct_sets = 0\n",
    "for true_set, en in zip(sets, enc):\n",
    "    pred_set = np.copy(true_set.reshape((16,)))\n",
    "    np.random.shuffle(pred_set)\n",
    "    pred_set = pred_set.reshape((4, 4))\n",
    "    true_set = set(frozenset(true) for true in true_set)\n",
    "    pred_set = set(frozenset(pred) for pred in pred_set)\n",
    "    difference = true_set - pred_set\n",
    "    correct += 1 if len(difference) == 0 else 0\n",
    "    correct_sets += 4 - len(difference)\n",
    "\n",
    "print(f\"accuracy: {correct / len(sets):.60g}\")\n",
    "print(f\"avg sets correct: {correct_sets / len(sets)}\")"
   ]
  },
  {
   "cell_type": "code",
   "execution_count": null,
   "id": "770ef098-de41-4604-815e-00ced5a77470",
   "metadata": {},
   "outputs": [
    {
     "data": {
      "text/plain": [
       "[array(['BIG', 'HOT', 'IN', 'POPULAR'], dtype=object),\n",
       " array(['SYMBOL', 'FINE', 'HANDSOME', 'LIPID'], dtype=object),\n",
       " array(['CHARACTER', 'CHARGE', 'LEVY', 'LEGEND'], dtype=object),\n",
       " array(['GLYPH', 'ICON', 'ASSESS', 'HIPPO'], dtype=object)]"
      ]
     },
     "execution_count": 111,
     "metadata": {},
     "output_type": "execute_result"
    }
   ],
   "source": [
    "clf = KMeansConstrained(\n",
    "    n_clusters=4,\n",
    "    size_min=4,\n",
    "    size_max=4,\n",
    ")\n",
    "pred = clf.fit_predict(en)\n",
    "ex_set = [sets[0].reshape((16))[np.where(example == i)] for i in range(0, 4)]\n",
    "\n",
    "ex_set"
   ]
  },
  {
   "cell_type": "code",
   "execution_count": null,
   "id": "a2d20c1f-6ab0-4258-8adf-0d85aef5842e",
   "metadata": {},
   "outputs": [
    {
     "data": {
      "text/plain": [
       "array([['ANKLET', 'BANGLE', 'BROOCH', 'PENDANT'],\n",
       "       ['BIND', 'PICKLE', 'SCRAPE', 'SPOT'],\n",
       "       ['IVY', 'JUSTICE', 'LITTLE', 'PREMIER'],\n",
       "       ['BABY', 'GINGER', 'POSH', 'SCARY']], dtype=object)"
      ]
     },
     "execution_count": 31,
     "metadata": {},
     "output_type": "execute_result"
    }
   ],
   "source": [
    "sets[0]"
   ]
  },
  {
   "cell_type": "code",
   "execution_count": null,
   "id": "8e95e8d8-e361-441f-86e6-5500d3e6e337",
   "metadata": {},
   "outputs": [
    {
     "data": {
      "text/plain": [
       "False"
      ]
     },
     "execution_count": 36,
     "metadata": {},
     "output_type": "execute_result"
    }
   ],
   "source": [
    "np.all([set in sets[0] for set in ex_set])"
   ]
  }
 ],
 "metadata": {
  "kernelspec": {
   "display_name": "Python 3 (ipykernel)",
   "language": "python",
   "name": "python3"
  },
  "language_info": {
   "codemirror_mode": {
    "name": "ipython",
    "version": 3
   },
   "file_extension": ".py",
   "mimetype": "text/x-python",
   "name": "python",
   "nbconvert_exporter": "python",
   "pygments_lexer": "ipython3",
   "version": "3.10.11"
  }
 },
 "nbformat": 4,
 "nbformat_minor": 5
}

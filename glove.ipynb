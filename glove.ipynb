{
 "cells": [
  {
   "cell_type": "code",
   "execution_count": 38,
   "id": "6dd47870-3882-4ea6-b2a2-bb51c6c1feb1",
   "metadata": {},
   "outputs": [],
   "source": [
    "import numpy as np\n",
    "import pandas as pd\n",
    "from k_means_constrained import KMeansConstrained"
   ]
  },
  {
   "cell_type": "code",
   "execution_count": 2,
   "id": "51642e14-3298-476a-88cd-05719a7b7aad",
   "metadata": {},
   "outputs": [],
   "source": [
    "GLOVE_FILE = \"glove.6B.100d.txt\"\n",
    "\n",
    "embeddings_index = {}\n",
    "with open(GLOVE_FILE) as f:\n",
    "    for line in f:\n",
    "        word, coefs = line.split(maxsplit=1)\n",
    "        coefs = np.fromstring(coefs, \"f\", sep=\" \")\n",
    "        embeddings_index[word] = coefs"
   ]
  },
  {
   "cell_type": "code",
   "execution_count": 3,
   "id": "b0254008-fcbe-477a-aed7-9b9f601b8f2f",
   "metadata": {},
   "outputs": [
    {
     "data": {
      "text/html": [
       "<div>\n",
       "<style scoped>\n",
       "    .dataframe tbody tr th:only-of-type {\n",
       "        vertical-align: middle;\n",
       "    }\n",
       "\n",
       "    .dataframe tbody tr th {\n",
       "        vertical-align: top;\n",
       "    }\n",
       "\n",
       "    .dataframe thead th {\n",
       "        text-align: right;\n",
       "    }\n",
       "</style>\n",
       "<table border=\"1\" class=\"dataframe\">\n",
       "  <thead>\n",
       "    <tr style=\"text-align: right;\">\n",
       "      <th></th>\n",
       "      <th>0</th>\n",
       "      <th>1</th>\n",
       "      <th>2</th>\n",
       "      <th>3</th>\n",
       "      <th>clue</th>\n",
       "    </tr>\n",
       "  </thead>\n",
       "  <tbody>\n",
       "    <tr>\n",
       "      <th>0</th>\n",
       "      <td>BIG</td>\n",
       "      <td>HOT</td>\n",
       "      <td>IN</td>\n",
       "      <td>POPULAR</td>\n",
       "      <td>OF-THE-MOMENT</td>\n",
       "    </tr>\n",
       "    <tr>\n",
       "      <th>1</th>\n",
       "      <td>CHARACTER</td>\n",
       "      <td>GLYPH</td>\n",
       "      <td>ICON</td>\n",
       "      <td>SYMBOL</td>\n",
       "      <td>PICTOGRAPH</td>\n",
       "    </tr>\n",
       "    <tr>\n",
       "      <th>2</th>\n",
       "      <td>ASSESS</td>\n",
       "      <td>CHARGE</td>\n",
       "      <td>FINE</td>\n",
       "      <td>LEVY</td>\n",
       "      <td>IMPOSE, AS A PENALTY</td>\n",
       "    </tr>\n",
       "    <tr>\n",
       "      <th>3</th>\n",
       "      <td>HANDSOME</td>\n",
       "      <td>HIPPO</td>\n",
       "      <td>LEGEND</td>\n",
       "      <td>LIPID</td>\n",
       "      <td>WORDS BEGINNING WITH BODY PARTS</td>\n",
       "    </tr>\n",
       "    <tr>\n",
       "      <th>4</th>\n",
       "      <td>CALCULATOR</td>\n",
       "      <td>CALENDAR</td>\n",
       "      <td>CAMERA</td>\n",
       "      <td>CLOCK</td>\n",
       "      <td>SMARTPHONE FEATURES BEGINNING WITH “C”</td>\n",
       "    </tr>\n",
       "    <tr>\n",
       "      <th>...</th>\n",
       "      <td>...</td>\n",
       "      <td>...</td>\n",
       "      <td>...</td>\n",
       "      <td>...</td>\n",
       "      <td>...</td>\n",
       "    </tr>\n",
       "    <tr>\n",
       "      <th>907</th>\n",
       "      <td>ARE</td>\n",
       "      <td>QUEUE</td>\n",
       "      <td>SEA</td>\n",
       "      <td>WHY</td>\n",
       "      <td>LETTER HOMOPHONES</td>\n",
       "    </tr>\n",
       "    <tr>\n",
       "      <th>908</th>\n",
       "      <td>HAIL</td>\n",
       "      <td>RAIN</td>\n",
       "      <td>SLEET</td>\n",
       "      <td>SNOW</td>\n",
       "      <td>WET WEATHER</td>\n",
       "    </tr>\n",
       "    <tr>\n",
       "      <th>909</th>\n",
       "      <td>BUCKS</td>\n",
       "      <td>HEAT</td>\n",
       "      <td>JAZZ</td>\n",
       "      <td>NETS</td>\n",
       "      <td>NBA TEAMS</td>\n",
       "    </tr>\n",
       "    <tr>\n",
       "      <th>910</th>\n",
       "      <td>OPTION</td>\n",
       "      <td>RETURN</td>\n",
       "      <td>SHIFT</td>\n",
       "      <td>TAB</td>\n",
       "      <td>KEYBOARD KEYS</td>\n",
       "    </tr>\n",
       "    <tr>\n",
       "      <th>911</th>\n",
       "      <td>KAYAK</td>\n",
       "      <td>LEVEL</td>\n",
       "      <td>MOM</td>\n",
       "      <td>RACE CAR</td>\n",
       "      <td>PALINDROMES</td>\n",
       "    </tr>\n",
       "  </tbody>\n",
       "</table>\n",
       "<p>912 rows × 5 columns</p>\n",
       "</div>"
      ],
      "text/plain": [
       "              0         1       2         3  \\\n",
       "0           BIG       HOT      IN   POPULAR   \n",
       "1     CHARACTER     GLYPH    ICON    SYMBOL   \n",
       "2        ASSESS    CHARGE    FINE      LEVY   \n",
       "3      HANDSOME     HIPPO  LEGEND     LIPID   \n",
       "4    CALCULATOR  CALENDAR  CAMERA     CLOCK   \n",
       "..          ...       ...     ...       ...   \n",
       "907         ARE     QUEUE     SEA       WHY   \n",
       "908        HAIL      RAIN   SLEET      SNOW   \n",
       "909       BUCKS      HEAT    JAZZ      NETS   \n",
       "910      OPTION    RETURN   SHIFT       TAB   \n",
       "911       KAYAK     LEVEL     MOM  RACE CAR   \n",
       "\n",
       "                                       clue  \n",
       "0                             OF-THE-MOMENT  \n",
       "1                                PICTOGRAPH  \n",
       "2                      IMPOSE, AS A PENALTY  \n",
       "3           WORDS BEGINNING WITH BODY PARTS  \n",
       "4    SMARTPHONE FEATURES BEGINNING WITH “C”  \n",
       "..                                      ...  \n",
       "907                       LETTER HOMOPHONES  \n",
       "908                             WET WEATHER  \n",
       "909                               NBA TEAMS  \n",
       "910                           KEYBOARD KEYS  \n",
       "911                             PALINDROMES  \n",
       "\n",
       "[912 rows x 5 columns]"
      ]
     },
     "execution_count": 3,
     "metadata": {},
     "output_type": "execute_result"
    }
   ],
   "source": [
    "CONNECTIONS_DATA = \"connections.csv\"\n",
    "conn = pd.read_csv(CONNECTIONS_DATA)\n",
    "conn"
   ]
  },
  {
   "cell_type": "code",
   "execution_count": 4,
   "id": "c7c9baec-3b48-43fe-88cd-be6980a6ca59",
   "metadata": {},
   "outputs": [
    {
     "data": {
      "text/plain": [
       "{'BEACH BOY',\n",
       " 'BLACK WIDOW',\n",
       " 'CANDY CANE',\n",
       " 'CAT EYE',\n",
       " 'CLOUD NINE',\n",
       " 'DOJA',\n",
       " 'FAST ONE',\n",
       " 'FIDDLESTICKS',\n",
       " 'FIRE TRUCK',\n",
       " 'FRESH AIR',\n",
       " 'GET OUT',\n",
       " 'GOLF COURSE',\n",
       " 'HIGH FIVE',\n",
       " 'I RAN',\n",
       " 'ICE CUBE',\n",
       " 'LOST BOYS',\n",
       " 'MARY JANE',\n",
       " 'MASHED POTATO',\n",
       " 'MILKY WAY',\n",
       " 'MOLE RAT',\n",
       " 'NEAR DARK',\n",
       " 'NEW YORK',\n",
       " 'OLD SPICE',\n",
       " 'ON BOARD',\n",
       " 'PEPPERMINT PATTY',\n",
       " 'RACE CAR',\n",
       " 'REPLY ALL',\n",
       " \"ROCK 'N ROLL\",\n",
       " 'ROFL',\n",
       " 'ROLLING STONE',\n",
       " 'SCHOOL BUS',\n",
       " 'SELFIE',\n",
       " 'SLEEPING BAG',\n",
       " 'STOP SIGN',\n",
       " 'TOP TEN',\n",
       " 'TWEEZE',\n",
       " 'UP FIRST'}"
      ]
     },
     "execution_count": 4,
     "metadata": {},
     "output_type": "execute_result"
    }
   ],
   "source": [
    "unk_words = set(word for word in conn.iloc[:, 0:4].to_numpy().flatten() if str(word).lower() not in embeddings_index)\n",
    "unk_words"
   ]
  },
  {
   "cell_type": "code",
   "execution_count": 5,
   "id": "d8ceab58-8a99-4754-8c7d-a8416d5852f5",
   "metadata": {},
   "outputs": [
    {
     "data": {
      "text/html": [
       "<div>\n",
       "<style scoped>\n",
       "    .dataframe tbody tr th:only-of-type {\n",
       "        vertical-align: middle;\n",
       "    }\n",
       "\n",
       "    .dataframe tbody tr th {\n",
       "        vertical-align: top;\n",
       "    }\n",
       "\n",
       "    .dataframe thead th {\n",
       "        text-align: right;\n",
       "    }\n",
       "</style>\n",
       "<table border=\"1\" class=\"dataframe\">\n",
       "  <thead>\n",
       "    <tr style=\"text-align: right;\">\n",
       "      <th></th>\n",
       "      <th>0</th>\n",
       "      <th>1</th>\n",
       "      <th>2</th>\n",
       "      <th>3</th>\n",
       "      <th>clue</th>\n",
       "    </tr>\n",
       "  </thead>\n",
       "  <tbody>\n",
       "    <tr>\n",
       "      <th>0</th>\n",
       "      <td>BIG</td>\n",
       "      <td>HOT</td>\n",
       "      <td>IN</td>\n",
       "      <td>POPULAR</td>\n",
       "      <td>OF-THE-MOMENT</td>\n",
       "    </tr>\n",
       "    <tr>\n",
       "      <th>1</th>\n",
       "      <td>CHARACTER</td>\n",
       "      <td>GLYPH</td>\n",
       "      <td>ICON</td>\n",
       "      <td>SYMBOL</td>\n",
       "      <td>PICTOGRAPH</td>\n",
       "    </tr>\n",
       "    <tr>\n",
       "      <th>2</th>\n",
       "      <td>ASSESS</td>\n",
       "      <td>CHARGE</td>\n",
       "      <td>FINE</td>\n",
       "      <td>LEVY</td>\n",
       "      <td>IMPOSE, AS A PENALTY</td>\n",
       "    </tr>\n",
       "    <tr>\n",
       "      <th>3</th>\n",
       "      <td>HANDSOME</td>\n",
       "      <td>HIPPO</td>\n",
       "      <td>LEGEND</td>\n",
       "      <td>LIPID</td>\n",
       "      <td>WORDS BEGINNING WITH BODY PARTS</td>\n",
       "    </tr>\n",
       "    <tr>\n",
       "      <th>4</th>\n",
       "      <td>CALCULATOR</td>\n",
       "      <td>CALENDAR</td>\n",
       "      <td>CAMERA</td>\n",
       "      <td>CLOCK</td>\n",
       "      <td>SMARTPHONE FEATURES BEGINNING WITH “C”</td>\n",
       "    </tr>\n",
       "    <tr>\n",
       "      <th>...</th>\n",
       "      <td>...</td>\n",
       "      <td>...</td>\n",
       "      <td>...</td>\n",
       "      <td>...</td>\n",
       "      <td>...</td>\n",
       "    </tr>\n",
       "    <tr>\n",
       "      <th>906</th>\n",
       "      <td>ESSENCE</td>\n",
       "      <td>PEOPLE</td>\n",
       "      <td>TIME</td>\n",
       "      <td>US</td>\n",
       "      <td>MAGAZINES</td>\n",
       "    </tr>\n",
       "    <tr>\n",
       "      <th>907</th>\n",
       "      <td>ARE</td>\n",
       "      <td>QUEUE</td>\n",
       "      <td>SEA</td>\n",
       "      <td>WHY</td>\n",
       "      <td>LETTER HOMOPHONES</td>\n",
       "    </tr>\n",
       "    <tr>\n",
       "      <th>908</th>\n",
       "      <td>HAIL</td>\n",
       "      <td>RAIN</td>\n",
       "      <td>SLEET</td>\n",
       "      <td>SNOW</td>\n",
       "      <td>WET WEATHER</td>\n",
       "    </tr>\n",
       "    <tr>\n",
       "      <th>909</th>\n",
       "      <td>BUCKS</td>\n",
       "      <td>HEAT</td>\n",
       "      <td>JAZZ</td>\n",
       "      <td>NETS</td>\n",
       "      <td>NBA TEAMS</td>\n",
       "    </tr>\n",
       "    <tr>\n",
       "      <th>910</th>\n",
       "      <td>OPTION</td>\n",
       "      <td>RETURN</td>\n",
       "      <td>SHIFT</td>\n",
       "      <td>TAB</td>\n",
       "      <td>KEYBOARD KEYS</td>\n",
       "    </tr>\n",
       "  </tbody>\n",
       "</table>\n",
       "<p>877 rows × 5 columns</p>\n",
       "</div>"
      ],
      "text/plain": [
       "              0         1       2        3  \\\n",
       "0           BIG       HOT      IN  POPULAR   \n",
       "1     CHARACTER     GLYPH    ICON   SYMBOL   \n",
       "2        ASSESS    CHARGE    FINE     LEVY   \n",
       "3      HANDSOME     HIPPO  LEGEND    LIPID   \n",
       "4    CALCULATOR  CALENDAR  CAMERA    CLOCK   \n",
       "..          ...       ...     ...      ...   \n",
       "906     ESSENCE    PEOPLE    TIME       US   \n",
       "907         ARE     QUEUE     SEA      WHY   \n",
       "908        HAIL      RAIN   SLEET     SNOW   \n",
       "909       BUCKS      HEAT    JAZZ     NETS   \n",
       "910      OPTION    RETURN   SHIFT      TAB   \n",
       "\n",
       "                                       clue  \n",
       "0                             OF-THE-MOMENT  \n",
       "1                                PICTOGRAPH  \n",
       "2                      IMPOSE, AS A PENALTY  \n",
       "3           WORDS BEGINNING WITH BODY PARTS  \n",
       "4    SMARTPHONE FEATURES BEGINNING WITH “C”  \n",
       "..                                      ...  \n",
       "906                               MAGAZINES  \n",
       "907                       LETTER HOMOPHONES  \n",
       "908                             WET WEATHER  \n",
       "909                               NBA TEAMS  \n",
       "910                           KEYBOARD KEYS  \n",
       "\n",
       "[877 rows x 5 columns]"
      ]
     },
     "execution_count": 5,
     "metadata": {},
     "output_type": "execute_result"
    }
   ],
   "source": [
    "valid = conn[~conn.iloc[:, 0:4].isin(unk_words).any(axis=1)]\n",
    "valid"
   ]
  },
  {
   "cell_type": "code",
   "execution_count": 54,
   "id": "dd4d32d4-bd6a-4e20-acc1-87a0ada701a1",
   "metadata": {},
   "outputs": [
    {
     "data": {
      "text/plain": [
       "(219, 4, 4, 100)"
      ]
     },
     "execution_count": 54,
     "metadata": {},
     "output_type": "execute_result"
    }
   ],
   "source": [
    "sets.shape"
   ]
  },
  {
   "cell_type": "code",
   "execution_count": 95,
   "id": "980c18b1-ab58-45fa-a0e2-09b36c57819f",
   "metadata": {},
   "outputs": [
    {
     "data": {
      "text/plain": [
       "(array([['DREAMCAST', 'GENESIS', 'SWITCH', 'WII'],\n",
       "        ['LINE', 'POINT', 'RAY', 'SEGMENT'],\n",
       "        ['FORD', 'GRANT', 'LINCOLN', 'WILSON'],\n",
       "        ['GANDER', 'GLANCE', 'GLIMPSE', 'LOOK']], dtype=object),\n",
       " array([[ 0.42829  , -0.040562 ,  1.4194   , ...,  0.44882  ,  1.2629   ,\n",
       "         -0.42215  ],\n",
       "        [ 0.66575  ,  0.94694  ,  0.38909  , ...,  0.17085  ,  0.73485  ,\n",
       "         -0.058583 ],\n",
       "        [-0.0099418, -0.030939 ,  0.17056  , ...,  0.35289  ,  0.68786  ,\n",
       "         -0.37449  ],\n",
       "        ...,\n",
       "        [-0.55429  ,  0.45861  ,  1.2993   , ..., -0.17074  , -0.18143  ,\n",
       "          0.68832  ],\n",
       "        [ 0.1986   ,  0.26173  ,  1.0303   , ..., -0.12858  , -0.13126  ,\n",
       "          0.8605   ],\n",
       "        [-0.23191  ,  0.61425  ,  0.72979  , ..., -0.30782  ,  0.24977  ,\n",
       "          0.48365  ]], dtype=float32))"
      ]
     },
     "execution_count": 95,
     "metadata": {},
     "output_type": "execute_result"
    }
   ],
   "source": [
    "sample = valid.sample(valid.shape[0] // 4 * 4).iloc[:, :4].to_numpy()\n",
    "sets = np.array(np.array_split(sample, len(sample) // 4))\n",
    "enc = sets.reshape((-1, 16))\n",
    "enc = np.array([[embeddings_index[str(word).lower()] for word in set] for set in enc])\n",
    "(sets[0], enc[0])"
   ]
  },
  {
   "cell_type": "code",
   "execution_count": 96,
   "id": "4763a7f8-e043-4394-a734-b9dc52c05c80",
   "metadata": {},
   "outputs": [
    {
     "data": {
      "text/plain": [
       "array([3, 3, 1, 3, 1, 1, 2, 0, 2, 1, 2, 2, 3, 0, 0, 0], dtype=int32)"
      ]
     },
     "execution_count": 96,
     "metadata": {},
     "output_type": "execute_result"
    }
   ],
   "source": [
    "clf = KMeansConstrained(\n",
    "    n_clusters=4,\n",
    "    size_min=4,\n",
    "    size_max=4,\n",
    ")\n",
    "\n",
    "example = clf.fit_predict(enc[0])\n",
    "example"
   ]
  },
  {
   "cell_type": "code",
   "execution_count": 97,
   "id": "770ef098-de41-4604-815e-00ced5a77470",
   "metadata": {},
   "outputs": [
    {
     "data": {
      "text/plain": [
       "[array(['SEGMENT', 'GLANCE', 'GLIMPSE', 'LOOK'], dtype=object),\n",
       " array(['SWITCH', 'LINE', 'POINT', 'GRANT'], dtype=object),\n",
       " array(['RAY', 'FORD', 'LINCOLN', 'WILSON'], dtype=object),\n",
       " array(['DREAMCAST', 'GENESIS', 'WII', 'GANDER'], dtype=object)]"
      ]
     },
     "execution_count": 97,
     "metadata": {},
     "output_type": "execute_result"
    }
   ],
   "source": [
    "ex_set = [sets[0].reshape((16))[np.where(example == i)] for i in range(0, 4)]\n",
    "ex_set"
   ]
  },
  {
   "cell_type": "code",
   "execution_count": 98,
   "id": "a2d20c1f-6ab0-4258-8adf-0d85aef5842e",
   "metadata": {},
   "outputs": [
    {
     "data": {
      "text/plain": [
       "array([['DREAMCAST', 'GENESIS', 'SWITCH', 'WII'],\n",
       "       ['LINE', 'POINT', 'RAY', 'SEGMENT'],\n",
       "       ['FORD', 'GRANT', 'LINCOLN', 'WILSON'],\n",
       "       ['GANDER', 'GLANCE', 'GLIMPSE', 'LOOK']], dtype=object)"
      ]
     },
     "execution_count": 98,
     "metadata": {},
     "output_type": "execute_result"
    }
   ],
   "source": [
    "sets[0]"
   ]
  }
 ],
 "metadata": {
  "kernelspec": {
   "display_name": "Python 3 (ipykernel)",
   "language": "python",
   "name": "python3"
  },
  "language_info": {
   "codemirror_mode": {
    "name": "ipython",
    "version": 3
   },
   "file_extension": ".py",
   "mimetype": "text/x-python",
   "name": "python",
   "nbconvert_exporter": "python",
   "pygments_lexer": "ipython3",
   "version": "3.11.7"
  }
 },
 "nbformat": 4,
 "nbformat_minor": 5
}

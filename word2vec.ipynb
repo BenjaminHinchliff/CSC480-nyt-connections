{
 "cells": [
  {
   "cell_type": "code",
   "execution_count": 675,
   "metadata": {},
   "outputs": [],
   "source": [
    "import numpy as np\n",
    "import pandas as pd\n",
    "from gensim.models import KeyedVectors\n",
    "from k_means_constrained import KMeansConstrained\n",
    "from sklearn.metrics import silhouette_score\n",
    "from sklearn.metrics.pairwise import euclidean_distances\n",
    "from sklearn.decomposition import PCA\n",
    "from sklearn.manifold import TSNE\n",
    "import matplotlib.pyplot as plt"
   ]
  },
  {
   "cell_type": "markdown",
   "metadata": {},
   "source": [
    "Use the pre-trained Google News corpus (3 billion running words) word vector model"
   ]
  },
  {
   "cell_type": "code",
   "execution_count": 676,
   "metadata": {},
   "outputs": [],
   "source": [
    "def create_word2vec_model():\n",
    "    word2vec_path = 'GoogleNews-vectors-negative300.bin' # 3 GB file (not included in repo)\n",
    "    w2v_model = KeyedVectors.load_word2vec_format(word2vec_path, binary=True)\n",
    "    return w2v_model"
   ]
  },
  {
   "cell_type": "markdown",
   "metadata": {},
   "source": [
    "Create a list of connections games from the connections.csv"
   ]
  },
  {
   "cell_type": "code",
   "execution_count": 677,
   "metadata": {},
   "outputs": [],
   "source": [
    "def create_connections_games():\n",
    "    df = pd.read_csv('connections.csv', names=['word0', 'word1', 'word2', 'word3', 'clue'], keep_default_na=False).iloc[1:]\n",
    "    df = df[['word0', 'word1', 'word2', 'word3']]\n",
    "    words_list = df.stack().tolist()\n",
    "    words_list = [s.lower() for s in words_list]\n",
    "    games = [words_list[i:i+16] for i in range(0, len(words_list), 16)]\n",
    "    return games\n"
   ]
  },
  {
   "cell_type": "markdown",
   "metadata": {},
   "source": [
    "Create word embeddings"
   ]
  },
  {
   "cell_type": "code",
   "execution_count": 678,
   "metadata": {},
   "outputs": [],
   "source": [
    "def create_w2v_embeddings(w2v_model, games):\n",
    "    embeddings = []\n",
    "    for i, word_set in enumerate(games):\n",
    "        embeddings.append([])\n",
    "        for word in word_set:\n",
    "            if word in w2v_model:\n",
    "                embeddings[i].append(w2v_model[word])\n",
    "            else:\n",
    "                embeddings[i].append([0 for _ in range(300)])\n",
    "\n",
    "    np_embeddings = []\n",
    "    for word_set in embeddings:\n",
    "        np_embeddings.append(np.array(word_set))\n",
    "    \n",
    "    return np_embeddings"
   ]
  },
  {
   "cell_type": "markdown",
   "metadata": {},
   "source": [
    "Performs K means clustering for one game"
   ]
  },
  {
   "cell_type": "code",
   "execution_count": 679,
   "metadata": {},
   "outputs": [],
   "source": [
    "def kmeans_clustering(X, game, visualize=False, reduction='pca'):\n",
    "    kmeans_cluster = KMeansConstrained(n_clusters=4, size_min=4, size_max=4)\n",
    "    cluster_labels = kmeans_cluster.fit_predict(X)\n",
    "    sil_score = silhouette_score(X, cluster_labels)\n",
    "\n",
    "    clusters = {}\n",
    "    for i, word in enumerate(game):\n",
    "        cluster_label = cluster_labels[i]\n",
    "        if cluster_label not in clusters:\n",
    "            clusters[cluster_label] = []\n",
    "        clusters[cluster_label].append(word)\n",
    "    clusters = dict(sorted(clusters.items()))\n",
    "\n",
    "    if visualize:\n",
    "        visualize_kmeans(X, game, cluster_labels, reduction)\n",
    "\n",
    "    return clusters, sil_score "
   ]
  },
  {
   "cell_type": "code",
   "execution_count": 680,
   "metadata": {},
   "outputs": [],
   "source": [
    "def visualize_kmeans(X, game, cluster_labels, reduction):\n",
    "    if reduction == 'pca':\n",
    "        pca = PCA(n_components=2)\n",
    "        X_reduced = pca.fit_transform(X)\n",
    "\n",
    "    for cluster_label in np.unique(cluster_labels):\n",
    "        plt.scatter(X_reduced[cluster_labels == cluster_label, 0], X_reduced[cluster_labels == cluster_label, 1], \n",
    "        label=f'Cluster {cluster_label}', alpha=0.5)\n",
    "\n",
    "    for i, word in enumerate(game):\n",
    "        plt.annotate(word, (X_reduced[i, 0], X_reduced[i, 1]))\n",
    "\n",
    "    plt.title('Kmeans Clustering - PCA Visualization')\n",
    "    plt.xlabel('Principal Component 1')\n",
    "    plt.ylabel('Principal Component 2')\n",
    "    plt.legend(bbox_to_anchor=(1, 1))\n",
    "    plt.savefig('K-means_clustering_pca.png')"
   ]
  },
  {
   "cell_type": "markdown",
   "metadata": {},
   "source": [
    "Plays all the connections games"
   ]
  },
  {
   "cell_type": "code",
   "execution_count": 681,
   "metadata": {},
   "outputs": [],
   "source": [
    "def play_connections(connections_games, word_embeddings):\n",
    "    game_results = []\n",
    "    avg_silhouette_score = 0\n",
    "    for i, game in enumerate(connections_games):\n",
    "        clusters, sil_score = kmeans_clustering(word_embeddings[i], game)\n",
    "        game_results.append(clusters)\n",
    "        avg_silhouette_score += sil_score\n",
    "    avg_silhouette_score = avg_silhouette_score/len(connections_games)\n",
    "    return game_results, avg_silhouette_score"
   ]
  },
  {
   "cell_type": "markdown",
   "metadata": {},
   "source": [
    "Evaluate results of K means"
   ]
  },
  {
   "cell_type": "code",
   "execution_count": 682,
   "metadata": {},
   "outputs": [],
   "source": [
    "def evaluate_connections(connections_games, results):\n",
    "    all_correct = 0\n",
    "    two_correct = 0\n",
    "    one_correct = 0\n",
    "    none_correct = 0\n",
    "\n",
    "    for i, game in enumerate(connections_games):\n",
    "        result = results[i]\n",
    "        \n",
    "        true_list = []\n",
    "        for i in range(len(game)):\n",
    "            if i % 4 == 0:\n",
    "                true_list.append(set())\n",
    "            true_list[i//4].add(game[i])\n",
    "        \n",
    "        pred_list = []\n",
    "        values = result.values()\n",
    "        for value in values:\n",
    "            pred_list.append(set(value))\n",
    "\n",
    "        match_set_count = 0\n",
    "        for true_set in true_list:\n",
    "            if true_set in pred_list:\n",
    "                match_set_count += 1\n",
    "        \n",
    "        \n",
    "        if match_set_count >= 1:\n",
    "            one_correct += 1\n",
    "            if match_set_count >= 2:\n",
    "                two_correct += 1\n",
    "                if match_set_count == 4:\n",
    "                    all_correct += 1\n",
    "        else:\n",
    "            none_correct += 1\n",
    "        \n",
    "    total_games = len(connections_games)\n",
    "    print(f\"All Correct Group Accuracy: {all_correct / total_games}\")\n",
    "    print(f\"Two Correct Group Accuracy: {two_correct / total_games}\")  \n",
    "    print(f\"One Correct Group Accuracy : {one_correct / total_games}\") \n",
    "    print(f\"No Correct Group Accuracy : {none_correct / total_games}\") "
   ]
  },
  {
   "cell_type": "code",
   "execution_count": 683,
   "metadata": {},
   "outputs": [],
   "source": [
    "w2v_model = create_word2vec_model()\n"
   ]
  },
  {
   "cell_type": "code",
   "execution_count": 684,
   "metadata": {},
   "outputs": [],
   "source": [
    "connections_games = create_connections_games()"
   ]
  },
  {
   "cell_type": "code",
   "execution_count": 685,
   "metadata": {},
   "outputs": [],
   "source": [
    "word_embeddings = create_w2v_embeddings(w2v_model, connections_games)"
   ]
  },
  {
   "cell_type": "code",
   "execution_count": 686,
   "metadata": {},
   "outputs": [],
   "source": [
    "results, avg_silhouette_score = play_connections(connections_games, word_embeddings)"
   ]
  },
  {
   "cell_type": "code",
   "execution_count": 687,
   "metadata": {},
   "outputs": [
    {
     "name": "stdout",
     "output_type": "stream",
     "text": [
      "All Correct Group Accuracy: 0.03070175438596491\n",
      "Two Correct Group Accuracy: 0.18859649122807018\n",
      "One Correct Group Accuracy : 0.5175438596491229\n",
      "No Correct Group Accuracy : 0.4824561403508772\n",
      "Average Silhouette Score: 0.040134522695181224\n"
     ]
    }
   ],
   "source": [
    "evaluate_connections(connections_games, results)\n",
    "print(f\"Average Silhouette Score: {avg_silhouette_score}\")"
   ]
  },
  {
   "cell_type": "code",
   "execution_count": 691,
   "metadata": {},
   "outputs": [
    {
     "data": {
      "image/png": "[encoded data removed]",
      "text/plain": [
       "<Figure size 640x480 with 1 Axes>"
      ]
     },
     "metadata": {},
     "output_type": "display_data"
    }
   ],
   "source": [
    "clusters, sil_score = kmeans_clustering(word_embeddings[0], connections_games[0], visualize=True, reduction='pca')"
   ]
  }
 ],
 "metadata": {
  "kernelspec": {
   "display_name": "Python 3 (ipykernel)",
   "language": "python",
   "name": "python3"
  },
  "language_info": {
   "codemirror_mode": {
    "name": "ipython",
    "version": 3
   },
   "file_extension": ".py",
   "mimetype": "text/x-python",
   "name": "python",
   "nbconvert_exporter": "python",
   "pygments_lexer": "ipython3",
   "version": "3.11.8"
  }
 },
 "nbformat": 4,
 "nbformat_minor": 4
}
